{
 "cells": [
  {
   "cell_type": "markdown",
   "metadata": {},
   "source": [
    "1. One point for implementing the dataset.\n",
    "2. One point for plotting a batch item queried from the dataset\n",
    "3. One point for implementing the model.\n",
    "4. One point if the model can compute a forward pass without error."
   ]
  },
  {
   "cell_type": "code",
   "execution_count": null,
   "metadata": {},
   "outputs": [],
   "source": [
    "1. One point for implementing the dataset.\n",
    "2. One point for plotting a batch item queried from the dataset\n",
    "3. One point for implementing the model.\n",
    "4. One point if the model can compute a forward pass without error."
   ]
  }
 ],
 "metadata": {
  "language_info": {
   "name": "python"
  }
 },
 "nbformat": 4,
 "nbformat_minor": 2
}
